{
 "cells": [
  {
   "cell_type": "code",
   "execution_count": null,
   "metadata": {},
   "outputs": [],
   "source": [
    "# Normalize, resize, and add batch dimension to the input data\n",
    "train_dataset = dataset['train'].take(1000)  # Select a fraction of the dataset for training\n",
    "train_dataset = train_dataset.map(lambda image, label: (tf.image.resize(image, (262, 350)), label))\n",
    "train_dataset = train_dataset.map(lambda image, label: (tf.image.per_image_standardization(image), label))\n",
    "train_dataset = train_dataset.batch(32)\n",
    "\n",
    "# Train the model\n",
    "classifier.fit(train_dataset, epochs=10)\n"
   ]
  }
 ],
 "metadata": {
  "language_info": {
   "name": "python"
  }
 },
 "nbformat": 4,
 "nbformat_minor": 2
}
